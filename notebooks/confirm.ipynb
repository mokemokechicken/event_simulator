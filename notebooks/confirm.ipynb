{
 "cells": [
  {
   "cell_type": "code",
   "execution_count": 30,
   "metadata": {
    "collapsed": false
   },
   "outputs": [],
   "source": [
    "import numpy as np\n",
    "import pandas as pd\n",
    "\n",
    "df = pd.read_csv('./data/d3_20151201-20160201.tsv', sep=\"\\t\")\n"
   ]
  },
  {
   "cell_type": "code",
   "execution_count": 31,
   "metadata": {
    "collapsed": false
   },
   "outputs": [],
   "source": [
    "uu = df.user_id.unique()\n",
    "shop_uu = df[df.event == 'activities.shopping_complete'].user_id.unique()\n",
    "entry_uu = df[df.event == 'activities.entry_complete'].user_id.unique()\n",
    "drop_uu = df[df.event == '_drop_out_'].user_id.unique()"
   ]
  },
  {
   "cell_type": "code",
   "execution_count": 32,
   "metadata": {
    "collapsed": true
   },
   "outputs": [],
   "source": [
    "z = df[:10]"
   ]
  },
  {
   "cell_type": "code",
   "execution_count": 36,
   "metadata": {
    "collapsed": false
   },
   "outputs": [],
   "source": [
    "z.index = z.index + 3"
   ]
  },
  {
   "cell_type": "code",
   "execution_count": 37,
   "metadata": {
    "collapsed": false
   },
   "outputs": [
    {
     "data": {
      "text/html": [
       "<div>\n",
       "<table border=\"1\" class=\"dataframe\">\n",
       "  <thead>\n",
       "    <tr style=\"text-align: right;\">\n",
       "      <th></th>\n",
       "      <th>user_id</th>\n",
       "      <th>event</th>\n",
       "      <th>_time</th>\n",
       "    </tr>\n",
       "  </thead>\n",
       "  <tbody>\n",
       "    <tr>\n",
       "      <th>3</th>\n",
       "      <td>00008c48436242ae9886bf5b711a4f84</td>\n",
       "      <td>_new_</td>\n",
       "      <td>1451025925</td>\n",
       "    </tr>\n",
       "    <tr>\n",
       "      <th>4</th>\n",
       "      <td>00008c48436242ae9886bf5b711a4f84</td>\n",
       "      <td>activities.custom.view_product_detail</td>\n",
       "      <td>1451025926</td>\n",
       "    </tr>\n",
       "    <tr>\n",
       "      <th>5</th>\n",
       "      <td>00008c48436242ae9886bf5b711a4f84</td>\n",
       "      <td>activities.product_detail</td>\n",
       "      <td>1451025926</td>\n",
       "    </tr>\n",
       "    <tr>\n",
       "      <th>6</th>\n",
       "      <td>00008c48436242ae9886bf5b711a4f84</td>\n",
       "      <td>activities.pageview</td>\n",
       "      <td>1451025926</td>\n",
       "    </tr>\n",
       "    <tr>\n",
       "      <th>7</th>\n",
       "      <td>00008c48436242ae9886bf5b711a4f84</td>\n",
       "      <td>_drop_out_</td>\n",
       "      <td>1457362798</td>\n",
       "    </tr>\n",
       "    <tr>\n",
       "      <th>8</th>\n",
       "      <td>0000c72160534fb0930b0b8c7b84ea7b</td>\n",
       "      <td>_new_</td>\n",
       "      <td>1452684582</td>\n",
       "    </tr>\n",
       "    <tr>\n",
       "      <th>9</th>\n",
       "      <td>0000c72160534fb0930b0b8c7b84ea7b</td>\n",
       "      <td>activities.user_data</td>\n",
       "      <td>1452684583</td>\n",
       "    </tr>\n",
       "    <tr>\n",
       "      <th>10</th>\n",
       "      <td>0000c72160534fb0930b0b8c7b84ea7b</td>\n",
       "      <td>activities.pageview</td>\n",
       "      <td>1452684583</td>\n",
       "    </tr>\n",
       "    <tr>\n",
       "      <th>11</th>\n",
       "      <td>0000c72160534fb0930b0b8c7b84ea7b</td>\n",
       "      <td>_drop_out_</td>\n",
       "      <td>1457362798</td>\n",
       "    </tr>\n",
       "    <tr>\n",
       "      <th>12</th>\n",
       "      <td>0000fdcf59cb410bb3b1781b065a8fc3</td>\n",
       "      <td>_new_</td>\n",
       "      <td>1449746463</td>\n",
       "    </tr>\n",
       "  </tbody>\n",
       "</table>\n",
       "</div>"
      ],
      "text/plain": [
       "                             user_id                                  event  \\\n",
       "3   00008c48436242ae9886bf5b711a4f84                                  _new_   \n",
       "4   00008c48436242ae9886bf5b711a4f84  activities.custom.view_product_detail   \n",
       "5   00008c48436242ae9886bf5b711a4f84              activities.product_detail   \n",
       "6   00008c48436242ae9886bf5b711a4f84                    activities.pageview   \n",
       "7   00008c48436242ae9886bf5b711a4f84                             _drop_out_   \n",
       "8   0000c72160534fb0930b0b8c7b84ea7b                                  _new_   \n",
       "9   0000c72160534fb0930b0b8c7b84ea7b                   activities.user_data   \n",
       "10  0000c72160534fb0930b0b8c7b84ea7b                    activities.pageview   \n",
       "11  0000c72160534fb0930b0b8c7b84ea7b                             _drop_out_   \n",
       "12  0000fdcf59cb410bb3b1781b065a8fc3                                  _new_   \n",
       "\n",
       "         _time  \n",
       "3   1451025925  \n",
       "4   1451025926  \n",
       "5   1451025926  \n",
       "6   1451025926  \n",
       "7   1457362798  \n",
       "8   1452684582  \n",
       "9   1452684583  \n",
       "10  1452684583  \n",
       "11  1457362798  \n",
       "12  1449746463  "
      ]
     },
     "execution_count": 37,
     "metadata": {},
     "output_type": "execute_result"
    }
   ],
   "source": [
    "z"
   ]
  },
  {
   "cell_type": "code",
   "execution_count": null,
   "metadata": {
    "collapsed": true
   },
   "outputs": [],
   "source": []
  }
 ],
 "metadata": {
  "kernelspec": {
   "display_name": "Python 3",
   "language": "python",
   "name": "python3"
  },
  "language_info": {
   "codemirror_mode": {
    "name": "ipython",
    "version": 3
   },
   "file_extension": ".py",
   "mimetype": "text/x-python",
   "name": "python",
   "nbconvert_exporter": "python",
   "pygments_lexer": "ipython3",
   "version": "3.5.0"
  }
 },
 "nbformat": 4,
 "nbformat_minor": 0
}
